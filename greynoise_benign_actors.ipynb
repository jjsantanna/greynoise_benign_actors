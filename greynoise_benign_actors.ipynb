{
 "cells": [
  {
   "cell_type": "markdown",
   "metadata": {},
   "source": [
    "# Using Greynoise.io API to retrieve all benign actors"
   ]
  },
  {
   "cell_type": "code",
   "execution_count": 3,
   "metadata": {},
   "outputs": [],
   "source": [
    "!greynoise query classification:benign -f json -v > greynoise_benign.json"
   ]
  },
  {
   "cell_type": "markdown",
   "metadata": {},
   "source": [
    "# Displaying the overall stats of the query output"
   ]
  },
  {
   "cell_type": "code",
   "execution_count": 10,
   "metadata": {},
   "outputs": [
    {
     "data": {
      "text/html": [
       "<div>\n",
       "<style scoped>\n",
       "    .dataframe tbody tr th:only-of-type {\n",
       "        vertical-align: middle;\n",
       "    }\n",
       "\n",
       "    .dataframe tbody tr th {\n",
       "        vertical-align: top;\n",
       "    }\n",
       "\n",
       "    .dataframe thead th {\n",
       "        text-align: right;\n",
       "    }\n",
       "</style>\n",
       "<table border=\"1\" class=\"dataframe\">\n",
       "  <thead>\n",
       "    <tr style=\"text-align: right;\">\n",
       "      <th></th>\n",
       "      <th>complete</th>\n",
       "      <th>count</th>\n",
       "      <th>data</th>\n",
       "      <th>message</th>\n",
       "      <th>query</th>\n",
       "      <th>scroll</th>\n",
       "    </tr>\n",
       "  </thead>\n",
       "  <tbody>\n",
       "    <tr>\n",
       "      <th>0</th>\n",
       "      <td>False</td>\n",
       "      <td>36620</td>\n",
       "      <td>[{'actor': 'Stretchoid.com', 'classification':...</td>\n",
       "      <td>ok</td>\n",
       "      <td>classification:benign</td>\n",
       "      <td>DnF1ZXJ5VGhlbkZldGNoBQAAAAAFtyCZFkFKSExEdUc4VE...</td>\n",
       "    </tr>\n",
       "  </tbody>\n",
       "</table>\n",
       "</div>"
      ],
      "text/plain": [
       "   complete  count                                               data message  \\\n",
       "0     False  36620  [{'actor': 'Stretchoid.com', 'classification':...      ok   \n",
       "\n",
       "                   query                                             scroll  \n",
       "0  classification:benign  DnF1ZXJ5VGhlbkZldGNoBQAAAAAFtyCZFkFKSExEdUc4VE...  "
      ]
     },
     "execution_count": 10,
     "metadata": {},
     "output_type": "execute_result"
    }
   ],
   "source": [
    "pd.read_json(r'greynoise_benign.json')"
   ]
  },
  {
   "cell_type": "markdown",
   "metadata": {},
   "source": [
    "# Loading the output of Greynoise in a dataframe (*only 10k results)"
   ]
  },
  {
   "cell_type": "code",
   "execution_count": 15,
   "metadata": {},
   "outputs": [],
   "source": [
    "df = pd.DataFrame(pd.read_json(r'greynoise_benign.json')['data'][0])"
   ]
  },
  {
   "cell_type": "code",
   "execution_count": 22,
   "metadata": {},
   "outputs": [
    {
     "data": {
      "text/plain": [
       "10000"
      ]
     },
     "execution_count": 22,
     "metadata": {},
     "output_type": "execute_result"
    }
   ],
   "source": [
    "len(df)"
   ]
  },
  {
   "cell_type": "code",
   "execution_count": 16,
   "metadata": {},
   "outputs": [
    {
     "data": {
      "text/html": [
       "<div>\n",
       "<style scoped>\n",
       "    .dataframe tbody tr th:only-of-type {\n",
       "        vertical-align: middle;\n",
       "    }\n",
       "\n",
       "    .dataframe tbody tr th {\n",
       "        vertical-align: top;\n",
       "    }\n",
       "\n",
       "    .dataframe thead th {\n",
       "        text-align: right;\n",
       "    }\n",
       "</style>\n",
       "<table border=\"1\" class=\"dataframe\">\n",
       "  <thead>\n",
       "    <tr style=\"text-align: right;\">\n",
       "      <th></th>\n",
       "      <th>actor</th>\n",
       "      <th>classification</th>\n",
       "      <th>cve</th>\n",
       "      <th>first_seen</th>\n",
       "      <th>ip</th>\n",
       "      <th>last_seen</th>\n",
       "      <th>metadata</th>\n",
       "      <th>raw_data</th>\n",
       "      <th>seen</th>\n",
       "      <th>spoofable</th>\n",
       "      <th>tags</th>\n",
       "    </tr>\n",
       "  </thead>\n",
       "  <tbody>\n",
       "    <tr>\n",
       "      <th>0</th>\n",
       "      <td>Stretchoid.com</td>\n",
       "      <td>benign</td>\n",
       "      <td>[]</td>\n",
       "      <td>2020-01-31</td>\n",
       "      <td>162.243.128.225</td>\n",
       "      <td>2020-07-16</td>\n",
       "      <td>{'asn': 'AS14061', 'category': 'hosting', 'cit...</td>\n",
       "      <td>{'ja3': [{'fingerprint': '20c9baf81bfe96ff8972...</td>\n",
       "      <td>True</td>\n",
       "      <td>False</td>\n",
       "      <td>[Cassandra Scanner, CPanel Scanner, FTP Scanne...</td>\n",
       "    </tr>\n",
       "    <tr>\n",
       "      <th>1</th>\n",
       "      <td>Alpha Strike Labs</td>\n",
       "      <td>benign</td>\n",
       "      <td>[]</td>\n",
       "      <td>2019-07-29</td>\n",
       "      <td>45.83.64.74</td>\n",
       "      <td>2020-07-16</td>\n",
       "      <td>{'asn': 'AS29014', 'category': 'hosting', 'cit...</td>\n",
       "      <td>{'ja3': [], 'scan': [{'port': 23, 'protocol': ...</td>\n",
       "      <td>True</td>\n",
       "      <td>False</td>\n",
       "      <td>[Telnet Scanner]</td>\n",
       "    </tr>\n",
       "    <tr>\n",
       "      <th>2</th>\n",
       "      <td>ShadowServer.org</td>\n",
       "      <td>benign</td>\n",
       "      <td>[]</td>\n",
       "      <td>2019-08-29</td>\n",
       "      <td>65.49.20.89</td>\n",
       "      <td>2020-07-16</td>\n",
       "      <td>{'asn': 'AS6939', 'category': 'hosting', 'city...</td>\n",
       "      <td>{'ja3': [], 'scan': [{'port': 22, 'protocol': ...</td>\n",
       "      <td>True</td>\n",
       "      <td>True</td>\n",
       "      <td>[SSH Scanner, ZMap Client]</td>\n",
       "    </tr>\n",
       "    <tr>\n",
       "      <th>3</th>\n",
       "      <td>Censys</td>\n",
       "      <td>benign</td>\n",
       "      <td>[]</td>\n",
       "      <td>2020-06-16</td>\n",
       "      <td>192.35.168.17</td>\n",
       "      <td>2020-07-16</td>\n",
       "      <td>{'asn': 'AS237', 'category': 'education', 'cit...</td>\n",
       "      <td>{'ja3': [], 'scan': [{'port': 22, 'protocol': ...</td>\n",
       "      <td>True</td>\n",
       "      <td>True</td>\n",
       "      <td>[CounterStrike Server Scanner, CPanel Scanner,...</td>\n",
       "    </tr>\n",
       "    <tr>\n",
       "      <th>4</th>\n",
       "      <td>Alpha Strike Labs</td>\n",
       "      <td>benign</td>\n",
       "      <td>[]</td>\n",
       "      <td>2019-07-12</td>\n",
       "      <td>45.83.65.11</td>\n",
       "      <td>2020-07-16</td>\n",
       "      <td>{'asn': 'AS29014', 'category': 'hosting', 'cit...</td>\n",
       "      <td>{'ja3': [], 'scan': [{'port': 22, 'protocol': ...</td>\n",
       "      <td>True</td>\n",
       "      <td>False</td>\n",
       "      <td>[HTTP Alt Scanner, Web Crawler, Web Scanner]</td>\n",
       "    </tr>\n",
       "  </tbody>\n",
       "</table>\n",
       "</div>"
      ],
      "text/plain": [
       "               actor classification cve  first_seen               ip  \\\n",
       "0     Stretchoid.com         benign  []  2020-01-31  162.243.128.225   \n",
       "1  Alpha Strike Labs         benign  []  2019-07-29      45.83.64.74   \n",
       "2   ShadowServer.org         benign  []  2019-08-29      65.49.20.89   \n",
       "3             Censys         benign  []  2020-06-16    192.35.168.17   \n",
       "4  Alpha Strike Labs         benign  []  2019-07-12      45.83.65.11   \n",
       "\n",
       "    last_seen                                           metadata  \\\n",
       "0  2020-07-16  {'asn': 'AS14061', 'category': 'hosting', 'cit...   \n",
       "1  2020-07-16  {'asn': 'AS29014', 'category': 'hosting', 'cit...   \n",
       "2  2020-07-16  {'asn': 'AS6939', 'category': 'hosting', 'city...   \n",
       "3  2020-07-16  {'asn': 'AS237', 'category': 'education', 'cit...   \n",
       "4  2020-07-16  {'asn': 'AS29014', 'category': 'hosting', 'cit...   \n",
       "\n",
       "                                            raw_data  seen  spoofable  \\\n",
       "0  {'ja3': [{'fingerprint': '20c9baf81bfe96ff8972...  True      False   \n",
       "1  {'ja3': [], 'scan': [{'port': 23, 'protocol': ...  True      False   \n",
       "2  {'ja3': [], 'scan': [{'port': 22, 'protocol': ...  True       True   \n",
       "3  {'ja3': [], 'scan': [{'port': 22, 'protocol': ...  True       True   \n",
       "4  {'ja3': [], 'scan': [{'port': 22, 'protocol': ...  True      False   \n",
       "\n",
       "                                                tags  \n",
       "0  [Cassandra Scanner, CPanel Scanner, FTP Scanne...  \n",
       "1                                   [Telnet Scanner]  \n",
       "2                         [SSH Scanner, ZMap Client]  \n",
       "3  [CounterStrike Server Scanner, CPanel Scanner,...  \n",
       "4       [HTTP Alt Scanner, Web Crawler, Web Scanner]  "
      ]
     },
     "execution_count": 16,
     "metadata": {},
     "output_type": "execute_result"
    }
   ],
   "source": [
    "df.head()"
   ]
  },
  {
   "cell_type": "markdown",
   "metadata": {},
   "source": [
    "# Grouping IPs used by each actor"
   ]
  },
  {
   "cell_type": "code",
   "execution_count": 34,
   "metadata": {},
   "outputs": [],
   "source": [
    "actors_ips = pd.DataFrame(df.groupby('actor')['ip'].apply(list)).reset_index()"
   ]
  },
  {
   "cell_type": "markdown",
   "metadata": {},
   "source": [
    "# Showing IPs used by Shodan.io "
   ]
  },
  {
   "cell_type": "code",
   "execution_count": 41,
   "metadata": {},
   "outputs": [
    {
     "data": {
      "text/html": [
       "<div>\n",
       "<style scoped>\n",
       "    .dataframe tbody tr th:only-of-type {\n",
       "        vertical-align: middle;\n",
       "    }\n",
       "\n",
       "    .dataframe tbody tr th {\n",
       "        vertical-align: top;\n",
       "    }\n",
       "\n",
       "    .dataframe thead th {\n",
       "        text-align: right;\n",
       "    }\n",
       "</style>\n",
       "<table border=\"1\" class=\"dataframe\">\n",
       "  <thead>\n",
       "    <tr style=\"text-align: right;\">\n",
       "      <th></th>\n",
       "      <th>actor</th>\n",
       "      <th>ip</th>\n",
       "    </tr>\n",
       "  </thead>\n",
       "  <tbody>\n",
       "    <tr>\n",
       "      <th>51</th>\n",
       "      <td>Shodan.io</td>\n",
       "      <td>[89.248.172.16, 125.212.217.214, 89.248.167.13...</td>\n",
       "    </tr>\n",
       "  </tbody>\n",
       "</table>\n",
       "</div>"
      ],
      "text/plain": [
       "        actor                                                 ip\n",
       "51  Shodan.io  [89.248.172.16, 125.212.217.214, 89.248.167.13..."
      ]
     },
     "execution_count": 41,
     "metadata": {},
     "output_type": "execute_result"
    }
   ],
   "source": [
    "actors_ips[actors_ips['actor'].str.contains('shodan',case=False)]"
   ]
  },
  {
   "cell_type": "markdown",
   "metadata": {},
   "source": [
    "# Showing IPs used by Censys"
   ]
  },
  {
   "cell_type": "code",
   "execution_count": 42,
   "metadata": {},
   "outputs": [
    {
     "data": {
      "text/html": [
       "<div>\n",
       "<style scoped>\n",
       "    .dataframe tbody tr th:only-of-type {\n",
       "        vertical-align: middle;\n",
       "    }\n",
       "\n",
       "    .dataframe tbody tr th {\n",
       "        vertical-align: top;\n",
       "    }\n",
       "\n",
       "    .dataframe thead th {\n",
       "        text-align: right;\n",
       "    }\n",
       "</style>\n",
       "<table border=\"1\" class=\"dataframe\">\n",
       "  <thead>\n",
       "    <tr style=\"text-align: right;\">\n",
       "      <th></th>\n",
       "      <th>actor</th>\n",
       "      <th>ip</th>\n",
       "    </tr>\n",
       "  </thead>\n",
       "  <tbody>\n",
       "    <tr>\n",
       "      <th>11</th>\n",
       "      <td>Censys</td>\n",
       "      <td>[192.35.168.17, 192.35.168.92, 192.35.168.74, ...</td>\n",
       "    </tr>\n",
       "  </tbody>\n",
       "</table>\n",
       "</div>"
      ],
      "text/plain": [
       "     actor                                                 ip\n",
       "11  Censys  [192.35.168.17, 192.35.168.92, 192.35.168.74, ..."
      ]
     },
     "execution_count": 42,
     "metadata": {},
     "output_type": "execute_result"
    }
   ],
   "source": [
    "actors_ips[actors_ips['actor'].str.contains('censys',case=False)]"
   ]
  }
 ],
 "metadata": {
  "kernelspec": {
   "display_name": "Python 3",
   "language": "python",
   "name": "python3"
  },
  "language_info": {
   "codemirror_mode": {
    "name": "ipython",
    "version": 3
   },
   "file_extension": ".py",
   "mimetype": "text/x-python",
   "name": "python",
   "nbconvert_exporter": "python",
   "pygments_lexer": "ipython3",
   "version": "3.7.6"
  }
 },
 "nbformat": 4,
 "nbformat_minor": 2
}
